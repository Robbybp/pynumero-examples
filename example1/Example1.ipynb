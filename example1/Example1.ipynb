{
 "cells": [
  {
   "cell_type": "markdown",
   "id": "a3ede394-098a-4130-8ce3-d907348bf0ba",
   "metadata": {},
   "source": [
    "# Example 1: Constructing the reduced Hessian"
   ]
  },
  {
   "cell_type": "markdown",
   "id": "7c09a255-759d-46ae-94bc-846ec8ad72d0",
   "metadata": {},
   "source": [
    "In this example, we will solve a model and check the eigenvalues of the reduced Hessian at the solution. The purpose of this example is to (a) practice using `PyomoNLP` and (b) introduce you to the reduced Hessian, which can be useful for debugging regularization coefficients."
   ]
  },
  {
   "cell_type": "markdown",
   "id": "b4289b01-ea4e-4508-9dd5-e450bc7f8937",
   "metadata": {},
   "source": [
    "We start with some imports."
   ]
  },
  {
   "cell_type": "code",
   "execution_count": 1,
   "id": "c4b3e2ef-3fcf-4b64-95d9-39aeca8bd1a0",
   "metadata": {},
   "outputs": [],
   "source": [
    "import pyomo.environ as pyo\n",
    "import pyomo.environ as pyo\n",
    "from pyomo.common.collections import ComponentSet\n",
    "from pyomo.contrib.incidence_analysis import IncidenceGraphInterface\n",
    "from pyomo.contrib.pynumero.interfaces.pyomo_nlp import PyomoNLP\n",
    "from svi.auto_thermal_reformer.fullspace_flowsheet import make_optimization_model\n",
    "import numpy as np\n",
    "import scipy as sp"
   ]
  },
  {
   "cell_type": "markdown",
   "id": "e6ecff96-28ff-4967-b466-4e6f493d8b43",
   "metadata": {},
   "source": [
    "The model we will solve comes from the \"surrogate-vs-implicit\" repository, available [here](https://github.com/robbybp/surrogate-vs-implicit). We have imported this package above, and will construct an autothermal reforming flowsheet model using its function `make_optimization_model`."
   ]
  },
  {
   "cell_type": "code",
   "execution_count": 5,
   "id": "3dbb185c-f703-44ed-8b48-ca86832c3067",
   "metadata": {},
   "outputs": [],
   "source": [
    "def make_and_solve_model(**kwds):\n",
    "    # First, we make our model\n",
    "    P = kwds.pop(\"P\", 1.5e6)\n",
    "    # With X = 0.95, we converge. With X = 0.94, we don't. Go figure\n",
    "    X = kwds.pop(\"X\", 0.94)\n",
    "    m = make_optimization_model(X, P)\n",
    "    m.ipopt_zL_out = pyo.Suffix(direction=pyo.Suffix.IMPORT)\n",
    "    m.ipopt_zU_out = pyo.Suffix(direction=pyo.Suffix.IMPORT)\n",
    "    m.dual = pyo.Suffix(direction=pyo.Suffix.IMPORT_EXPORT)\n",
    "    # Does the model solve?\n",
    "    solver = pyo.SolverFactory(\"cyipopt\", options=kwds)\n",
    "    res = solver.solve(m, tee=True)\n",
    "    # Converges infeasible in 900 iter\n",
    "    return m, res"
   ]
  },
  {
   "cell_type": "code",
   "execution_count": 7,
   "id": "82ae6ed2-0e6b-450c-9069-504fac12c87a",
   "metadata": {},
   "outputs": [
    {
     "name": "stdout",
     "output_type": "stream",
     "text": [
      "2025-05-06 21:44:53 [INFO] idaes.init.fs.reformer.control_volume.properties_in: Starting initialization\n",
      "2025-05-06 21:44:53 [INFO] idaes.init.fs.reformer.control_volume.properties_in: Property initialization: optimal - Optimal Solution Found.\n",
      "2025-05-06 21:44:53 [INFO] idaes.init.fs.reformer.control_volume.properties_out: Starting initialization\n",
      "2025-05-06 21:44:53 [INFO] idaes.init.fs.reformer.control_volume.properties_out: Property initialization: optimal - Optimal Solution Found.\n",
      "2025-05-06 21:44:53 [INFO] idaes.init.fs.reformer.control_volume: Initialization Complete\n",
      "2025-05-06 21:44:53 [INFO] idaes.init.fs.reformer: Initialization Complete: optimal - Optimal Solution Found\n",
      "2025-05-06 21:44:53 [INFO] idaes.init.fs.reformer_recuperator.hot_side.properties_in: Starting initialization\n",
      "2025-05-06 21:44:53 [INFO] idaes.init.fs.reformer_recuperator.hot_side.properties_in: Property initialization: optimal - Optimal Solution Found.\n",
      "2025-05-06 21:44:53 [INFO] idaes.init.fs.reformer_recuperator.hot_side.properties_out: Starting initialization\n",
      "2025-05-06 21:44:53 [INFO] idaes.init.fs.reformer_recuperator.hot_side.properties_out: Property initialization: optimal - Optimal Solution Found.\n",
      "2025-05-06 21:44:53 [INFO] idaes.init.fs.reformer_recuperator.hot_side: Initialization Complete\n",
      "2025-05-06 21:44:53 [INFO] idaes.init.fs.reformer_recuperator.cold_side.properties_in: Starting initialization\n",
      "2025-05-06 21:44:53 [INFO] idaes.init.fs.reformer_recuperator.cold_side.properties_in: Property initialization: optimal - Optimal Solution Found.\n",
      "2025-05-06 21:44:53 [INFO] idaes.init.fs.reformer_recuperator.cold_side.properties_out: Starting initialization\n",
      "2025-05-06 21:44:53 [INFO] idaes.init.fs.reformer_recuperator.cold_side.properties_out: Property initialization: optimal - Optimal Solution Found.\n",
      "2025-05-06 21:44:53 [INFO] idaes.init.fs.reformer_recuperator.cold_side: Initialization Complete\n",
      "2025-05-06 21:44:53 [INFO] idaes.init.fs.reformer_recuperator: Initialization Completed, optimal - Optimal Solution Found\n",
      "2025-05-06 21:44:53 [INFO] idaes.init.fs.bypass_rejoin.syngas_inlet_state: Starting initialization\n",
      "2025-05-06 21:44:53 [INFO] idaes.init.fs.bypass_rejoin.syngas_inlet_state: Property initialization: optimal - Optimal Solution Found.\n",
      "2025-05-06 21:44:53 [INFO] idaes.init.fs.bypass_rejoin.bypass_inlet_state: Starting initialization\n",
      "2025-05-06 21:44:53 [INFO] idaes.init.fs.bypass_rejoin.bypass_inlet_state: Property initialization: optimal - Optimal Solution Found.\n",
      "2025-05-06 21:44:53 [INFO] idaes.init.fs.bypass_rejoin.mixed_state: Starting initialization\n",
      "2025-05-06 21:44:53 [INFO] idaes.init.fs.bypass_rejoin.mixed_state: Property initialization: optimal - Optimal Solution Found.\n",
      "2025-05-06 21:44:53 [INFO] idaes.init.fs.bypass_rejoin.mixed_state: Property package initialization: optimal - Optimal Solution Found.\n",
      "2025-05-06 21:44:53 [INFO] idaes.init.fs.bypass_rejoin: Initialization Complete: optimal - Optimal Solution Found\n",
      "2025-05-06 21:44:53 [INFO] idaes.init.fs.product.properties: Starting initialization\n",
      "2025-05-06 21:44:53 [INFO] idaes.init.fs.product.properties: Property initialization: optimal - Optimal Solution Found.\n",
      "2025-05-06 21:44:53 [INFO] idaes.init.fs.product.properties: Property package initialization: optimal - Optimal Solution Found.\n",
      "2025-05-06 21:44:53 [INFO] idaes.init.fs.product: Initialization Complete.\n",
      "2025-05-06 21:44:53 [INFO] idaes.init.fs.reformer_mix.gas_inlet_state: Starting initialization\n",
      "2025-05-06 21:44:53 [INFO] idaes.init.fs.reformer_mix.gas_inlet_state: Property initialization: optimal - Optimal Solution Found.\n",
      "2025-05-06 21:44:53 [INFO] idaes.init.fs.reformer_mix.oxygen_inlet_state: Starting initialization\n",
      "2025-05-06 21:44:54 [INFO] idaes.init.fs.reformer_mix.oxygen_inlet_state: Property initialization: optimal - Optimal Solution Found.\n",
      "2025-05-06 21:44:54 [INFO] idaes.init.fs.reformer_mix.steam_inlet_state: Starting initialization\n",
      "2025-05-06 21:44:54 [INFO] idaes.init.fs.reformer_mix.steam_inlet_state: Property initialization: optimal - Optimal Solution Found.\n",
      "2025-05-06 21:44:54 [INFO] idaes.init.fs.reformer_mix.mixed_state: Starting initialization\n",
      "2025-05-06 21:44:54 [INFO] idaes.init.fs.reformer_mix.mixed_state: Property initialization: optimal - Optimal Solution Found.\n",
      "2025-05-06 21:44:54 [INFO] idaes.init.fs.reformer_mix.mixed_state: Property package initialization: optimal - Optimal Solution Found.\n",
      "2025-05-06 21:44:54 [INFO] idaes.init.fs.reformer_mix: Initialization Complete: optimal - Optimal Solution Found\n",
      "2025-05-06 21:44:54 [INFO] idaes.init.fs.feed.properties: Starting initialization\n",
      "2025-05-06 21:44:54 [INFO] idaes.init.fs.feed.properties: Property initialization: optimal - Optimal Solution Found.\n",
      "2025-05-06 21:44:54 [INFO] idaes.init.fs.feed.properties: Property package initialization: optimal - Optimal Solution Found.\n",
      "2025-05-06 21:44:54 [INFO] idaes.init.fs.feed: Initialization Complete.\n",
      "2025-05-06 21:44:54 [INFO] idaes.init.fs.NG_expander.control_volume.properties_in: Starting initialization\n",
      "2025-05-06 21:44:54 [INFO] idaes.init.fs.NG_expander.control_volume.properties_in: Property initialization: optimal - Optimal Solution Found.\n",
      "2025-05-06 21:44:54 [INFO] idaes.init.fs.NG_expander.control_volume.properties_out: Starting initialization\n",
      "2025-05-06 21:44:54 [INFO] idaes.init.fs.NG_expander.control_volume.properties_out: Property initialization: optimal - Optimal Solution Found.\n",
      "2025-05-06 21:44:54 [INFO] idaes.init.fs.NG_expander.control_volume.properties_out: Property package initialization: optimal - Optimal Solution Found.\n",
      "2025-05-06 21:44:54 [INFO] idaes.init.fs.NG_expander.properties_isentropic: Starting initialization\n",
      "2025-05-06 21:44:54 [INFO] idaes.init.fs.NG_expander.properties_isentropic: Property initialization: optimal - Optimal Solution Found.\n",
      "2025-05-06 21:44:54 [INFO] idaes.init.fs.NG_expander.properties_isentropic: Property package initialization: optimal - Optimal Solution Found.\n",
      "2025-05-06 21:44:54 [INFO] idaes.init.fs.NG_expander: Initialization Complete: optimal - Optimal Solution Found\n",
      "2025-05-06 21:44:54 [INFO] idaes.init.fs.air_compressor_s1.control_volume.properties_in: Starting initialization\n",
      "2025-05-06 21:44:54 [INFO] idaes.init.fs.air_compressor_s1.control_volume.properties_in: Property initialization: optimal - Optimal Solution Found.\n",
      "2025-05-06 21:44:54 [INFO] idaes.init.fs.air_compressor_s1.control_volume.properties_out: Starting initialization\n",
      "2025-05-06 21:44:54 [INFO] idaes.init.fs.air_compressor_s1.control_volume.properties_out: Property initialization: optimal - Optimal Solution Found.\n",
      "2025-05-06 21:44:54 [INFO] idaes.init.fs.air_compressor_s1.control_volume.properties_out: Property package initialization: optimal - Optimal Solution Found.\n",
      "2025-05-06 21:44:54 [INFO] idaes.init.fs.air_compressor_s1.properties_isentropic: Starting initialization\n",
      "2025-05-06 21:44:54 [INFO] idaes.init.fs.air_compressor_s1.properties_isentropic: Property initialization: optimal - Optimal Solution Found.\n",
      "2025-05-06 21:44:54 [INFO] idaes.init.fs.air_compressor_s1.properties_isentropic: Property package initialization: optimal - Optimal Solution Found.\n",
      "2025-05-06 21:44:54 [INFO] idaes.init.fs.air_compressor_s1: Initialization Complete: optimal - Optimal Solution Found\n",
      "2025-05-06 21:44:54 [INFO] idaes.init.fs.intercooler_s1.control_volume.properties_in: Starting initialization\n",
      "2025-05-06 21:44:54 [INFO] idaes.init.fs.intercooler_s1.control_volume.properties_in: Property initialization: optimal - Optimal Solution Found.\n",
      "2025-05-06 21:44:54 [INFO] idaes.init.fs.intercooler_s1.control_volume.properties_out: Starting initialization\n",
      "2025-05-06 21:44:55 [INFO] idaes.init.fs.intercooler_s1.control_volume.properties_out: Property initialization: optimal - Optimal Solution Found.\n",
      "2025-05-06 21:44:55 [INFO] idaes.init.fs.intercooler_s1.control_volume: Initialization Complete\n",
      "2025-05-06 21:44:55 [INFO] idaes.init.fs.intercooler_s1: Initialization Complete: optimal - Optimal Solution Found\n",
      "2025-05-06 21:44:55 [INFO] idaes.init.fs.air_compressor_s2.control_volume.properties_in: Starting initialization\n",
      "2025-05-06 21:44:55 [INFO] idaes.init.fs.air_compressor_s2.control_volume.properties_in: Property initialization: optimal - Optimal Solution Found.\n",
      "2025-05-06 21:44:55 [INFO] idaes.init.fs.air_compressor_s2.control_volume.properties_out: Starting initialization\n",
      "2025-05-06 21:44:55 [INFO] idaes.init.fs.air_compressor_s2.control_volume.properties_out: Property initialization: optimal - Optimal Solution Found.\n",
      "2025-05-06 21:44:55 [INFO] idaes.init.fs.air_compressor_s2.control_volume.properties_out: Property package initialization: optimal - Optimal Solution Found.\n",
      "2025-05-06 21:44:55 [INFO] idaes.init.fs.air_compressor_s2.properties_isentropic: Starting initialization\n",
      "2025-05-06 21:44:55 [INFO] idaes.init.fs.air_compressor_s2.properties_isentropic: Property initialization: optimal - Optimal Solution Found.\n",
      "2025-05-06 21:44:55 [INFO] idaes.init.fs.air_compressor_s2.properties_isentropic: Property package initialization: optimal - Optimal Solution Found.\n",
      "2025-05-06 21:44:55 [INFO] idaes.init.fs.air_compressor_s2: Initialization Complete: optimal - Optimal Solution Found\n",
      "2025-05-06 21:44:55 [INFO] idaes.init.fs.intercooler_s2.control_volume.properties_in: Starting initialization\n",
      "2025-05-06 21:44:55 [INFO] idaes.init.fs.intercooler_s2.control_volume.properties_in: Property initialization: optimal - Optimal Solution Found.\n",
      "2025-05-06 21:44:55 [INFO] idaes.init.fs.intercooler_s2.control_volume.properties_out: Starting initialization\n",
      "2025-05-06 21:44:55 [INFO] idaes.init.fs.intercooler_s2.control_volume.properties_out: Property initialization: optimal - Optimal Solution Found.\n",
      "2025-05-06 21:44:55 [INFO] idaes.init.fs.intercooler_s2.control_volume: Initialization Complete\n",
      "2025-05-06 21:44:55 [INFO] idaes.init.fs.intercooler_s2: Initialization Complete: optimal - Optimal Solution Found\n",
      "2025-05-06 21:44:55 [INFO] idaes.init.fs.reformer_bypass.mixed_state: Starting initialization\n",
      "2025-05-06 21:44:55 [INFO] idaes.init.fs.reformer_bypass.mixed_state: Property initialization: optimal - Optimal Solution Found.\n",
      "2025-05-06 21:44:55 [INFO] idaes.init.fs.reformer_bypass.reformer_outlet_state: Starting initialization\n",
      "2025-05-06 21:44:55 [INFO] idaes.init.fs.reformer_bypass.reformer_outlet_state: Property initialization: optimal - Optimal Solution Found.\n",
      "2025-05-06 21:44:55 [INFO] idaes.init.fs.reformer_bypass.reformer_outlet_state: Property package initialization: optimal - Optimal Solution Found.\n",
      "2025-05-06 21:44:55 [INFO] idaes.init.fs.reformer_bypass.bypass_outlet_state: Starting initialization\n",
      "2025-05-06 21:44:55 [INFO] idaes.init.fs.reformer_bypass.bypass_outlet_state: Property initialization: optimal - Optimal Solution Found.\n",
      "2025-05-06 21:44:55 [INFO] idaes.init.fs.reformer_bypass.bypass_outlet_state: Property package initialization: optimal - Optimal Solution Found.\n",
      "2025-05-06 21:44:55 [INFO] idaes.init.fs.reformer_bypass: Initialization Step 2 Complete: optimal - Optimal Solution Found\n",
      "WARNING (W1002): Setting Var 'fs.reformer_recuperator.hot_side.properties_in[0\n",
      ".0].mole_frac_phase_comp[Vap,O2]' to a numeric value `5.955484480200715e-22`\n",
      "outside the bounds (1e-20, 1.001).\n",
      "    See also https://pyomo.readthedocs.io/en/stable/errors.html#w1002\n",
      "WARNING (W1002): Setting Var 'fs.reformer_recuperator.hot_side.properties_out[\n",
      "0.0].mole_frac_phase_comp[Vap,O2]' to a numeric value `5.955484480200715e-22`\n",
      "outside the bounds (1e-20, 1.001).\n",
      "    See also https://pyomo.readthedocs.io/en/stable/errors.html#w1002\n",
      "WARNING (W1002): Setting Var\n",
      "'fs.reformer.control_volume.properties_out[0.0].mole_frac_phase_comp[Vap,O2]'\n",
      "to a numeric value `5.955484480200716e-22` outside the bounds (1e-20, 1.001).\n",
      "    See also https://pyomo.readthedocs.io/en/stable/errors.html#w1002\n",
      "WARNING (W1002): Setting Var\n",
      "'fs.bypass_rejoin.syngas_inlet_state[0.0].mole_frac_phase_comp[Vap,O2]' to a\n",
      "numeric value `5.955484480200715e-22` outside the bounds (1e-20, 1.001).\n",
      "    See also https://pyomo.readthedocs.io/en/stable/errors.html#w1002\n",
      "WARNING (W1002): Setting Var 'fs.feed.properties[0.0].flow_mol' to a numeric\n",
      "value `1250.0000048509398` outside the bounds (1120, 1250).\n",
      "    See also https://pyomo.readthedocs.io/en/stable/errors.html#w1002\n",
      "WARNING (W1002): Setting Var\n",
      "'fs.reformer_recuperator.hot_side.properties_in[0.0].mole_frac_comp[O2]' to a\n",
      "numeric value `5.955484480200716e-22` outside the bounds (1e-20, 1.001).\n",
      "    See also https://pyomo.readthedocs.io/en/stable/errors.html#w1002\n",
      "WARNING (W1002): Setting Var\n",
      "'fs.reformer_recuperator.hot_side.properties_out[0.0].mole_frac_comp[O2]' to a\n",
      "numeric value `5.955484480200715e-22` outside the bounds (1e-20, 1.001).\n",
      "    See also https://pyomo.readthedocs.io/en/stable/errors.html#w1002\n",
      "WARNING (W1002): Setting Var\n",
      "'fs.reformer.control_volume.properties_out[0.0].mole_frac_comp[O2]' to a\n",
      "numeric value `5.955484480200716e-22` outside the bounds (1e-20, 1.001).\n",
      "    See also https://pyomo.readthedocs.io/en/stable/errors.html#w1002\n",
      "WARNING (W1002): Setting Var\n",
      "'fs.bypass_rejoin.syngas_inlet_state[0.0].mole_frac_comp[O2]' to a numeric\n",
      "value `5.955484480200715e-22` outside the bounds (1e-20, 1.001).\n",
      "    See also https://pyomo.readthedocs.io/en/stable/errors.html#w1002\n"
     ]
    }
   ],
   "source": [
    "m, res = make_and_solve_model(X=0.95)\n",
    "pyo.assert_optimal_termination(res)"
   ]
  },
  {
   "cell_type": "markdown",
   "id": "33773846-72e7-4491-a39e-96c7a9db8c8f",
   "metadata": {},
   "source": [
    "Now we'll construct the reduced Hessian at the solution. This will give us access to the derivative matrices we'll need to construct the reduced Hessian."
   ]
  },
  {
   "cell_type": "code",
   "execution_count": null,
   "id": "378222cc-0e7d-4e5d-95d4-5060e63c8059",
   "metadata": {},
   "outputs": [],
   "source": []
  },
  {
   "cell_type": "markdown",
   "id": "d4069c1d-dcd1-4f98-9be1-97c9642a7fbb",
   "metadata": {},
   "source": [
    "Now, we'll construct the `PyomoNLP` object at the solution. This will give us access to the derivative matrices we need for the reduced Hessian."
   ]
  },
  {
   "cell_type": "code",
   "execution_count": null,
   "id": "642fcff5-2823-40bf-8cbe-b3b2d96945d2",
   "metadata": {},
   "outputs": [],
   "source": []
  },
  {
   "cell_type": "code",
   "execution_count": null,
   "id": "52c0f897-99d3-4c24-8a7b-f7c6fb019839",
   "metadata": {},
   "outputs": [],
   "source": []
  },
  {
   "cell_type": "code",
   "execution_count": null,
   "id": "b93352e9-18c0-4014-9843-0f3b6c00426c",
   "metadata": {},
   "outputs": [],
   "source": []
  },
  {
   "cell_type": "code",
   "execution_count": null,
   "id": "ceaeb4b5-edf5-4b50-94da-7d9905842192",
   "metadata": {},
   "outputs": [],
   "source": []
  },
  {
   "cell_type": "code",
   "execution_count": null,
   "id": "604e9e3c-47ad-4c14-910f-51725ce26da0",
   "metadata": {},
   "outputs": [],
   "source": []
  },
  {
   "cell_type": "code",
   "execution_count": null,
   "id": "71602b6d-7861-43c8-9035-c45cbd14b0d0",
   "metadata": {},
   "outputs": [],
   "source": []
  },
  {
   "cell_type": "code",
   "execution_count": null,
   "id": "97c35662-6aa1-4505-b999-05b1d051d79c",
   "metadata": {},
   "outputs": [],
   "source": []
  },
  {
   "cell_type": "code",
   "execution_count": null,
   "id": "3dc1ce86-d0b8-431a-9c99-51efab274308",
   "metadata": {},
   "outputs": [],
   "source": []
  }
 ],
 "metadata": {
  "kernelspec": {
   "display_name": "Python 3 (ipykernel)",
   "language": "python",
   "name": "python3"
  },
  "language_info": {
   "codemirror_mode": {
    "name": "ipython",
    "version": 3
   },
   "file_extension": ".py",
   "mimetype": "text/x-python",
   "name": "python",
   "nbconvert_exporter": "python",
   "pygments_lexer": "ipython3",
   "version": "3.12.7"
  }
 },
 "nbformat": 4,
 "nbformat_minor": 5
}
