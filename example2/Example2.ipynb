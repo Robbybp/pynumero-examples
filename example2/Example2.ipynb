{
 "cells": [
  {
   "cell_type": "markdown",
   "id": "66f1d66b-750c-446e-a1e9-c8c9e68c647e",
   "metadata": {},
   "source": [
    "# Example 2: Recording iterations during a solve with an intermediate callback"
   ]
  },
  {
   "cell_type": "markdown",
   "id": "bbb29c59",
   "metadata": {},
   "source": [
    "Optimization solvers are notorious black boxes. To understand or visualize what they are doing, or to debug failures, it is often useful to inspect the trajectory a solver takes from the initial point to (hopefully) a\n",
    "solution. This tutorial shows how to do this with Ipopt's intermediate callback, CyIpopt, and PyNumero."
   ]
  },
  {
   "cell_type": "markdown",
   "id": "4fcf8386",
   "metadata": {},
   "source": [
    "This tutorial will use an example from power systems: The optimal power flow problem. We use [Egret](https://github.com/grid-parity-exchange/Egret) (`pip install gridx-egret` should work) and [PGLib-OPF](https://github.com/power-grid-lib/pglib-opf) to construct the Pyomo model. We assume a `pglib-opf` directory exists in our current working directory, which contains the contents of the linked repository."
   ]
  },
  {
   "cell_type": "markdown",
   "id": "ab872687",
   "metadata": {},
   "source": [
    "Some imports and path bookkeeping."
   ]
  },
  {
   "cell_type": "code",
   "execution_count": 24,
   "id": "011adb64",
   "metadata": {},
   "outputs": [],
   "source": [
    "import os\n",
    "import pyomo.environ as pyo\n",
    "from pyomo.common.collections import ComponentMap\n",
    "from pyomo.contrib.pynumero.interfaces.pyomo_nlp import PyomoNLP\n",
    "from egret.parsers.matpower_parser import create_ModelData\n",
    "from egret.models.acopf import create_psv_acopf_model\n",
    "import numpy as np\n",
    "import scipy as sp\n",
    "import matplotlib.pyplot as plt\n",
    "import matplotlib\n",
    "\n",
    "fname = \"pglib_opf_case118_ieee.m\"\n",
    "fpath = os.path.join(\"pglib-opf\", fname)"
   ]
  },
  {
   "cell_type": "markdown",
   "id": "f7f48368",
   "metadata": {},
   "source": [
    "Now we'll parse the input data file (known as a Matpower file) into Egret's `ModelData` data structure\n",
    "and construct some additional data structures that will be useful later."
   ]
  },
  {
   "cell_type": "code",
   "execution_count": 4,
   "id": "e170b7cc",
   "metadata": {},
   "outputs": [],
   "source": [
    "data = create_ModelData(fpath)\n",
    "\n",
    "generator_lookup = dict(data.elements(\"generator\"))\n",
    "bus_lookup = dict(data.elements(\"bus\"))\n",
    "online_generators = [i for i, g in data.elements(\"generator\") if g[\"in_service\"]]\n",
    "sorted_generators = sorted(online_generators, key=lambda i: generator_lookup[i][\"p_max\"], reverse=True)\n",
    "nonreference_generators = [\n",
    "    i for i in sorted_generators\n",
    "    if bus_lookup[generator_lookup[i][\"bus\"]][\"matpower_bustype\"] != \"ref\"\n",
    "]"
   ]
  },
  {
   "cell_type": "markdown",
   "id": "9ffa7cee",
   "metadata": {},
   "source": [
    "We are ready to create the Pyomo model. Let's see if it solves."
   ]
  },
  {
   "cell_type": "code",
   "execution_count": 5,
   "id": "e09b09a5",
   "metadata": {},
   "outputs": [
    {
     "name": "stdout",
     "output_type": "stream",
     "text": [
      "WARNING (W1002): Setting Var 'vm['4']' to a numeric value `1.0600000048974205`\n",
      "outside the bounds (0.94, 1.06).\n",
      "    See also https://pyomo.readthedocs.io/en/stable/errors.html#w1002\n",
      "WARNING (W1002): Setting Var 'vm['9']' to a numeric value `1.0600000051741287`\n",
      "outside the bounds (0.94, 1.06).\n",
      "    See also https://pyomo.readthedocs.io/en/stable/errors.html#w1002\n",
      "WARNING (W1002): Setting Var 'vm['17']' to a numeric value\n",
      "`1.0600000045856877` outside the bounds (0.94, 1.06).\n",
      "    See also https://pyomo.readthedocs.io/en/stable/errors.html#w1002\n",
      "WARNING (W1002): Setting Var 'vm['25']' to a numeric value\n",
      "`1.0600000052139866` outside the bounds (0.94, 1.06).\n",
      "    See also https://pyomo.readthedocs.io/en/stable/errors.html#w1002\n",
      "WARNING (W1002): Setting Var 'vm['37']' to a numeric value `1.060000004966313`\n",
      "outside the bounds (0.94, 1.06).\n",
      "    See also https://pyomo.readthedocs.io/en/stable/errors.html#w1002\n",
      "WARNING (W1002): Setting Var 'vm['59']' to a numeric value\n",
      "`1.0600000045409927` outside the bounds (0.94, 1.06).\n",
      "    See also https://pyomo.readthedocs.io/en/stable/errors.html#w1002\n",
      "WARNING (W1002): Setting Var 'vm['61']' to a numeric value\n",
      "`1.0600000050181486` outside the bounds (0.94, 1.06).\n",
      "    See also https://pyomo.readthedocs.io/en/stable/errors.html#w1002\n",
      "WARNING (W1002): Setting Var 'vm['66']' to a numeric value\n",
      "`1.0600000051696643` outside the bounds (0.94, 1.06).\n",
      "    See also https://pyomo.readthedocs.io/en/stable/errors.html#w1002\n",
      "WARNING (W1002): Setting Var 'vm['89']' to a numeric value\n",
      "`1.0600000051533474` outside the bounds (0.94, 1.06).\n",
      "    See also https://pyomo.readthedocs.io/en/stable/errors.html#w1002\n",
      "WARNING (W1002): Setting Var 'vm['100']' to a numeric value\n",
      "`1.0600000052298302` outside the bounds (0.94, 1.06).\n",
      "    See also https://pyomo.readthedocs.io/en/stable/errors.html#w1002\n",
      "WARNING (W1002): Setting Var 'vm['116']' to a numeric value\n",
      "`1.0600000052193717` outside the bounds (0.94, 1.06).\n",
      "    See also https://pyomo.readthedocs.io/en/stable/errors.html#w1002\n",
      "WARNING (W1002): Setting Var 'pg['5']' to a numeric value `5.050000050253643`\n",
      "outside the bounds (0.0, 5.05).\n",
      "    See also https://pyomo.readthedocs.io/en/stable/errors.html#w1002\n",
      "WARNING (W1002): Setting Var 'pg['6']' to a numeric value\n",
      "`-9.987749433039914e-09` outside the bounds (0.0, 0.85).\n",
      "    See also https://pyomo.readthedocs.io/en/stable/errors.html#w1002\n",
      "WARNING (W1002): Setting Var 'pg['12']' to a numeric value `4.850000048337709`\n",
      "outside the bounds (0.0, 4.85).\n",
      "    See also https://pyomo.readthedocs.io/en/stable/errors.html#w1002\n",
      "WARNING (W1002): Setting Var 'pg['14']' to a numeric value\n",
      "`0.1700000098003466` outside the bounds (0.0, 0.17).\n",
      "    See also https://pyomo.readthedocs.io/en/stable/errors.html#w1002\n",
      "WARNING (W1002): Setting Var 'pg['20']' to a numeric value\n",
      "`0.2000000098809972` outside the bounds (0.0, 0.2).\n",
      "    See also https://pyomo.readthedocs.io/en/stable/errors.html#w1002\n",
      "WARNING (W1002): Setting Var 'pg['21']' to a numeric value\n",
      "`2.2300000222323084` outside the bounds (0.0, 2.23).\n",
      "    See also https://pyomo.readthedocs.io/en/stable/errors.html#w1002\n",
      "WARNING (W1002): Setting Var 'pg['22']' to a numeric value\n",
      "`0.5300000098233179` outside the bounds (0.0, 0.53).\n",
      "    See also https://pyomo.readthedocs.io/en/stable/errors.html#w1002\n",
      "WARNING (W1002): Setting Var 'pg['25']' to a numeric value `3.080000030616343`\n",
      "outside the bounds (0.0, 3.08).\n",
      "    See also https://pyomo.readthedocs.io/en/stable/errors.html#w1002\n",
      "WARNING (W1002): Setting Var 'pg['26']' to a numeric value\n",
      "`1.9500000194202372` outside the bounds (0.0, 1.95).\n",
      "    See also https://pyomo.readthedocs.io/en/stable/errors.html#w1002\n",
      "WARNING (W1002): Setting Var 'pg['28']' to a numeric value\n",
      "`-9.790430885219497e-09` outside the bounds (0.0, 4.41).\n",
      "    See also https://pyomo.readthedocs.io/en/stable/errors.html#w1002\n",
      "WARNING (W1002): Setting Var 'pg['29']' to a numeric value\n",
      "`-9.396921717874099e-09` outside the bounds (0.0, 7.84).\n",
      "    See also https://pyomo.readthedocs.io/en/stable/errors.html#w1002\n",
      "WARNING (W1002): Setting Var 'pg['37']' to a numeric value `5.090000050408628`\n",
      "outside the bounds (0.0, 5.09).\n",
      "    See also https://pyomo.readthedocs.io/en/stable/errors.html#w1002\n",
      "WARNING (W1002): Setting Var 'pg['39']' to a numeric value\n",
      "`-9.860209301440385e-09` outside the bounds (0.0, 0.1).\n",
      "    See also https://pyomo.readthedocs.io/en/stable/errors.html#w1002\n",
      "WARNING (W1002): Setting Var 'pg['45']' to a numeric value `6.530000065207098`\n",
      "outside the bounds (0.0, 6.53).\n",
      "    See also https://pyomo.readthedocs.io/en/stable/errors.html#w1002\n",
      "WARNING (W1002): Setting Var 'pg['51']' to a numeric value\n",
      "`-9.764483664199919e-09` outside the bounds (0.0, 0.79).\n",
      "    See also https://pyomo.readthedocs.io/en/stable/errors.html#w1002\n",
      "WARNING (W1002): Setting Var 'vmsq['4']' to a numeric value\n",
      "`1.1236000103825317` outside the bounds (0.8835999999999999,\n",
      "1.1236000000000002).\n",
      "    See also https://pyomo.readthedocs.io/en/stable/errors.html#w1002\n",
      "WARNING (W1002): Setting Var 'vmsq['9']' to a numeric value\n",
      "`1.123600010969153` outside the bounds (0.8835999999999999,\n",
      "1.1236000000000002).\n",
      "    See also https://pyomo.readthedocs.io/en/stable/errors.html#w1002\n",
      "WARNING (W1002): Setting Var 'vmsq['17']' to a numeric value\n",
      "`1.123600009721658` outside the bounds (0.8835999999999999,\n",
      "1.1236000000000002).\n",
      "    See also https://pyomo.readthedocs.io/en/stable/errors.html#w1002\n",
      "WARNING (W1002): Setting Var 'vmsq['25']' to a numeric value\n",
      "`1.1236000110536517` outside the bounds (0.8835999999999999,\n",
      "1.1236000000000002).\n",
      "    See also https://pyomo.readthedocs.io/en/stable/errors.html#w1002\n",
      "WARNING (W1002): Setting Var 'vmsq['37']' to a numeric value\n",
      "`1.1236000105285837` outside the bounds (0.8835999999999999,\n",
      "1.1236000000000002).\n",
      "    See also https://pyomo.readthedocs.io/en/stable/errors.html#w1002\n",
      "WARNING (W1002): Setting Var 'vmsq['59']' to a numeric value\n",
      "`1.1236000096269048` outside the bounds (0.8835999999999999,\n",
      "1.1236000000000002).\n",
      "    See also https://pyomo.readthedocs.io/en/stable/errors.html#w1002\n",
      "WARNING (W1002): Setting Var 'vmsq['61']' to a numeric value\n",
      "`1.1236000106384751` outside the bounds (0.8835999999999999,\n",
      "1.1236000000000002).\n",
      "    See also https://pyomo.readthedocs.io/en/stable/errors.html#w1002\n",
      "WARNING (W1002): Setting Var 'vmsq['66']' to a numeric value\n",
      "`1.1236000109596882` outside the bounds (0.8835999999999999,\n",
      "1.1236000000000002).\n",
      "    See also https://pyomo.readthedocs.io/en/stable/errors.html#w1002\n",
      "WARNING (W1002): Setting Var 'vmsq['89']' to a numeric value\n",
      "`1.1236000109250963` outside the bounds (0.8835999999999999,\n",
      "1.1236000000000002).\n",
      "    See also https://pyomo.readthedocs.io/en/stable/errors.html#w1002\n",
      "WARNING (W1002): Setting Var 'vmsq['100']' to a numeric value\n",
      "`1.12360001108724` outside the bounds (0.8835999999999999,\n",
      "1.1236000000000002).\n",
      "    See also https://pyomo.readthedocs.io/en/stable/errors.html#w1002\n",
      "WARNING (W1002): Setting Var 'vmsq['116']' to a numeric value\n",
      "`1.123600011065068` outside the bounds (0.8835999999999999,\n",
      "1.1236000000000002).\n",
      "    See also https://pyomo.readthedocs.io/en/stable/errors.html#w1002\n",
      "WARNING (W1002): Setting Var 'qg['1']' to a numeric value\n",
      "`0.15000000628493593` outside the bounds (-0.05, 0.15).\n",
      "    See also https://pyomo.readthedocs.io/en/stable/errors.html#w1002\n",
      "WARNING (W1002): Setting Var 'qg['11']' to a numeric value\n",
      "`-0.47000000431209704` outside the bounds (-0.47, 1.11).\n",
      "    See also https://pyomo.readthedocs.io/en/stable/errors.html#w1002\n",
      "WARNING (W1002): Setting Var 'qg['14']' to a numeric value\n",
      "`0.09000000287619855` outside the bounds (-0.09, 0.09).\n",
      "    See also https://pyomo.readthedocs.io/en/stable/errors.html#w1002\n",
      "WARNING (W1002): Setting Var 'qg['21']' to a numeric value\n",
      "`-0.8500000020746162` outside the bounds (-0.85, 1.12).\n",
      "    See also https://pyomo.readthedocs.io/en/stable/errors.html#w1002\n",
      "WARNING (W1002): Setting Var 'qg['29']' to a numeric value\n",
      "`-0.6700000020521103` outside the bounds (-0.67, 2.0).\n",
      "    See also https://pyomo.readthedocs.io/en/stable/errors.html#w1002\n",
      "WARNING (W1002): Setting Var 'qg['34']' to a numeric value\n",
      "`0.09000000561824659` outside the bounds (-0.06, 0.09).\n",
      "    See also https://pyomo.readthedocs.io/en/stable/errors.html#w1002\n"
     ]
    },
    {
     "name": "stdout",
     "output_type": "stream",
     "text": [
      "WARNING (W1002): Setting Var 'qg['35']' to a numeric value\n",
      "`0.23000000744487295` outside the bounds (-0.08, 0.23).\n",
      "    See also https://pyomo.readthedocs.io/en/stable/errors.html#w1002\n",
      "WARNING (W1002): Setting Var 'qg['38']' to a numeric value\n",
      "`0.23000000197224058` outside the bounds (-0.08, 0.23).\n",
      "    See also https://pyomo.readthedocs.io/en/stable/errors.html#w1002\n",
      "WARNING (W1002): Setting Var 'qg['47']' to a numeric value\n",
      "`0.23000000039388002` outside the bounds (-0.08, 0.23).\n",
      "    See also https://pyomo.readthedocs.io/en/stable/errors.html#w1002\n"
     ]
    }
   ],
   "source": [
    "# This constructs an optimal power flow problem, using the \"rectangular power-polar voltage\" coordinate\n",
    "# system. Don't worry about it if you don't know what that is.\n",
    "# The second output here is the ModelData object, which we already have.\n",
    "m, _ = create_psv_acopf_model(data)\n",
    "solver = pyo.SolverFactory(\"cyipopt\")\n",
    "res = solver.solve(m, tee=True)\n",
    "pyo.assert_optimal_termination(res)"
   ]
  },
  {
   "cell_type": "markdown",
   "id": "7bce72f6",
   "metadata": {},
   "source": [
    "Looks good. Now we want to track the state during the solve. Let's create a fresh model."
   ]
  },
  {
   "cell_type": "code",
   "execution_count": 6,
   "id": "0ac609a9",
   "metadata": {},
   "outputs": [],
   "source": [
    "m, _ = create_psv_acopf_model(data)\n",
    "m.ipopt_zL_out = pyo.Suffix(direction=pyo.Suffix.IMPORT)\n",
    "m.ipopt_zU_out = pyo.Suffix(direction=pyo.Suffix.IMPORT)\n",
    "m.dual = pyo.Suffix(direction=pyo.Suffix.IMPORT_EXPORT)"
   ]
  },
  {
   "cell_type": "markdown",
   "id": "5c6c7caf",
   "metadata": {},
   "source": [
    "We'll track the state with a callback object that we'll send to CyIpopt.\n",
    "The \"intermediate callback\" that our CyIpopt interface accepts is a 13-argument function. We'll create\n",
    "a callable class so we can easily store the iterations somewhere."
   ]
  },
  {
   "cell_type": "code",
   "execution_count": 7,
   "id": "87c6921c",
   "metadata": {},
   "outputs": [],
   "source": [
    "class Callback:\n",
    "    \n",
    "    def __init__(self):\n",
    "        self.iterate_data = []\n",
    "\n",
    "    def __call__(\n",
    "        self,\n",
    "        nlp,\n",
    "        ipopt_problem,\n",
    "        alg_mod,\n",
    "        iter_count,\n",
    "        obj_value,\n",
    "        inf_pr,\n",
    "        inf_du,\n",
    "        mu,\n",
    "        d_norm,\n",
    "        regularization_size,\n",
    "        alpha_du,\n",
    "        alpha_pr,\n",
    "        ls_trials,\n",
    "    ):\n",
    "        \"\"\"Intermediate callback in the Pyomo CyIpopt interface is a 13-argument\n",
    "        function\n",
    "        \"\"\"\n",
    "        # The best way to get the current iterate is with the CyIpopt get_current_iterate method.\n",
    "        # This only works with Ipopt 3.14. For earlier Ipopt, you can use nlp.get_primals and\n",
    "        # nlp.get_duals, but this has two problems: 1. You don't have bound multipliers\n",
    "        # and 2. primals and duals are not necessarily from the same iteration.\n",
    "        iterate = ipopt_problem.get_current_iterate(scaled=False)\n",
    "        # See here: https://cyipopt.readthedocs.io/en/stable/reference.html\n",
    "        # for the keys of the dict that this function returns.\n",
    "        primals = iterate[\"x\"]\n",
    "        duals = iterate[\"mult_g\"]\n",
    "        lbmult = iterate[\"mult_x_L\"]\n",
    "        ubmult = iterate[\"mult_x_U\"]\n",
    "        data = dict(primals=primals, duals=duals, lbmult=lbmult, ubmult=ubmult)\n",
    "        self.iterate_data.append(data)\n",
    "        \n",
    "callback = Callback()"
   ]
  },
  {
   "cell_type": "markdown",
   "id": "6646bdd8",
   "metadata": {},
   "source": [
    "We have created a callback object. Did that work? Can we track the primal and dual variable values during\n",
    "a solve?"
   ]
  },
  {
   "cell_type": "code",
   "execution_count": 9,
   "id": "7eb1fdb4",
   "metadata": {},
   "outputs": [
    {
     "name": "stdout",
     "output_type": "stream",
     "text": [
      "WARNING (W1002): Setting Var 'vm['4']' to a numeric value `1.0600000048974185`\n",
      "outside the bounds (0.94, 1.06).\n",
      "    See also https://pyomo.readthedocs.io/en/stable/errors.html#w1002\n",
      "WARNING (W1002): Setting Var 'vm['9']' to a numeric value `1.0600000051741287`\n",
      "outside the bounds (0.94, 1.06).\n",
      "    See also https://pyomo.readthedocs.io/en/stable/errors.html#w1002\n",
      "WARNING (W1002): Setting Var 'vm['17']' to a numeric value\n",
      "`1.0600000045856877` outside the bounds (0.94, 1.06).\n",
      "    See also https://pyomo.readthedocs.io/en/stable/errors.html#w1002\n",
      "WARNING (W1002): Setting Var 'vm['25']' to a numeric value\n",
      "`1.0600000052139866` outside the bounds (0.94, 1.06).\n",
      "    See also https://pyomo.readthedocs.io/en/stable/errors.html#w1002\n",
      "WARNING (W1002): Setting Var 'vm['37']' to a numeric value\n",
      "`1.0600000049663045` outside the bounds (0.94, 1.06).\n",
      "    See also https://pyomo.readthedocs.io/en/stable/errors.html#w1002\n",
      "WARNING (W1002): Setting Var 'vm['59']' to a numeric value `1.060000004540994`\n",
      "outside the bounds (0.94, 1.06).\n",
      "    See also https://pyomo.readthedocs.io/en/stable/errors.html#w1002\n",
      "WARNING (W1002): Setting Var 'vm['61']' to a numeric value\n",
      "`1.0600000050181486` outside the bounds (0.94, 1.06).\n",
      "    See also https://pyomo.readthedocs.io/en/stable/errors.html#w1002\n",
      "WARNING (W1002): Setting Var 'vm['66']' to a numeric value\n",
      "`1.0600000051696643` outside the bounds (0.94, 1.06).\n",
      "    See also https://pyomo.readthedocs.io/en/stable/errors.html#w1002\n",
      "WARNING (W1002): Setting Var 'vm['89']' to a numeric value\n",
      "`1.0600000051533474` outside the bounds (0.94, 1.06).\n",
      "    See also https://pyomo.readthedocs.io/en/stable/errors.html#w1002\n",
      "WARNING (W1002): Setting Var 'vm['100']' to a numeric value\n",
      "`1.0600000052298302` outside the bounds (0.94, 1.06).\n",
      "    See also https://pyomo.readthedocs.io/en/stable/errors.html#w1002\n",
      "WARNING (W1002): Setting Var 'vm['116']' to a numeric value\n",
      "`1.0600000052193717` outside the bounds (0.94, 1.06).\n",
      "    See also https://pyomo.readthedocs.io/en/stable/errors.html#w1002\n",
      "WARNING (W1002): Setting Var 'pg['5']' to a numeric value `5.050000050253643`\n",
      "outside the bounds (0.0, 5.05).\n",
      "    See also https://pyomo.readthedocs.io/en/stable/errors.html#w1002\n",
      "WARNING (W1002): Setting Var 'pg['6']' to a numeric value\n",
      "`-9.987749433039924e-09` outside the bounds (0.0, 0.85).\n",
      "    See also https://pyomo.readthedocs.io/en/stable/errors.html#w1002\n",
      "WARNING (W1002): Setting Var 'pg['12']' to a numeric value `4.850000048337709`\n",
      "outside the bounds (0.0, 4.85).\n",
      "    See also https://pyomo.readthedocs.io/en/stable/errors.html#w1002\n",
      "WARNING (W1002): Setting Var 'pg['14']' to a numeric value\n",
      "`0.1700000098003466` outside the bounds (0.0, 0.17).\n",
      "    See also https://pyomo.readthedocs.io/en/stable/errors.html#w1002\n",
      "WARNING (W1002): Setting Var 'pg['20']' to a numeric value\n",
      "`0.2000000098809972` outside the bounds (0.0, 0.2).\n",
      "    See also https://pyomo.readthedocs.io/en/stable/errors.html#w1002\n",
      "WARNING (W1002): Setting Var 'pg['21']' to a numeric value\n",
      "`2.2300000222323084` outside the bounds (0.0, 2.23).\n",
      "    See also https://pyomo.readthedocs.io/en/stable/errors.html#w1002\n",
      "WARNING (W1002): Setting Var 'pg['22']' to a numeric value\n",
      "`0.5300000098233179` outside the bounds (0.0, 0.53).\n",
      "    See also https://pyomo.readthedocs.io/en/stable/errors.html#w1002\n",
      "WARNING (W1002): Setting Var 'pg['25']' to a numeric value `3.080000030616343`\n",
      "outside the bounds (0.0, 3.08).\n",
      "    See also https://pyomo.readthedocs.io/en/stable/errors.html#w1002\n",
      "WARNING (W1002): Setting Var 'pg['26']' to a numeric value\n",
      "`1.9500000194202372` outside the bounds (0.0, 1.95).\n",
      "    See also https://pyomo.readthedocs.io/en/stable/errors.html#w1002\n",
      "WARNING (W1002): Setting Var 'pg['28']' to a numeric value\n",
      "`-9.790430885220683e-09` outside the bounds (0.0, 4.41).\n",
      "    See also https://pyomo.readthedocs.io/en/stable/errors.html#w1002\n",
      "WARNING (W1002): Setting Var 'pg['29']' to a numeric value\n",
      "`-9.396921717870036e-09` outside the bounds (0.0, 7.84).\n",
      "    See also https://pyomo.readthedocs.io/en/stable/errors.html#w1002\n",
      "WARNING (W1002): Setting Var 'pg['37']' to a numeric value `5.090000050408628`\n",
      "outside the bounds (0.0, 5.09).\n",
      "    See also https://pyomo.readthedocs.io/en/stable/errors.html#w1002\n",
      "WARNING (W1002): Setting Var 'pg['39']' to a numeric value\n",
      "`-9.860209301440437e-09` outside the bounds (0.0, 0.1).\n",
      "    See also https://pyomo.readthedocs.io/en/stable/errors.html#w1002\n",
      "WARNING (W1002): Setting Var 'pg['45']' to a numeric value `6.530000065207098`\n",
      "outside the bounds (0.0, 6.53).\n",
      "    See also https://pyomo.readthedocs.io/en/stable/errors.html#w1002\n",
      "WARNING (W1002): Setting Var 'pg['51']' to a numeric value\n",
      "`-9.764483664200018e-09` outside the bounds (0.0, 0.79).\n",
      "    See also https://pyomo.readthedocs.io/en/stable/errors.html#w1002\n",
      "WARNING (W1002): Setting Var 'vmsq['4']' to a numeric value\n",
      "`1.1236000103825272` outside the bounds (0.8835999999999999,\n",
      "1.1236000000000002).\n",
      "    See also https://pyomo.readthedocs.io/en/stable/errors.html#w1002\n",
      "WARNING (W1002): Setting Var 'vmsq['9']' to a numeric value\n",
      "`1.123600010969153` outside the bounds (0.8835999999999999,\n",
      "1.1236000000000002).\n",
      "    See also https://pyomo.readthedocs.io/en/stable/errors.html#w1002\n",
      "WARNING (W1002): Setting Var 'vmsq['17']' to a numeric value\n",
      "`1.123600009721658` outside the bounds (0.8835999999999999,\n",
      "1.1236000000000002).\n",
      "    See also https://pyomo.readthedocs.io/en/stable/errors.html#w1002\n",
      "WARNING (W1002): Setting Var 'vmsq['25']' to a numeric value\n",
      "`1.1236000110536517` outside the bounds (0.8835999999999999,\n",
      "1.1236000000000002).\n",
      "    See also https://pyomo.readthedocs.io/en/stable/errors.html#w1002\n",
      "WARNING (W1002): Setting Var 'vmsq['37']' to a numeric value\n",
      "`1.1236000105285655` outside the bounds (0.8835999999999999,\n",
      "1.1236000000000002).\n",
      "    See also https://pyomo.readthedocs.io/en/stable/errors.html#w1002\n",
      "WARNING (W1002): Setting Var 'vmsq['59']' to a numeric value\n",
      "`1.1236000096269074` outside the bounds (0.8835999999999999,\n",
      "1.1236000000000002).\n",
      "    See also https://pyomo.readthedocs.io/en/stable/errors.html#w1002\n",
      "WARNING (W1002): Setting Var 'vmsq['61']' to a numeric value\n",
      "`1.1236000106384751` outside the bounds (0.8835999999999999,\n",
      "1.1236000000000002).\n",
      "    See also https://pyomo.readthedocs.io/en/stable/errors.html#w1002\n",
      "WARNING (W1002): Setting Var 'vmsq['66']' to a numeric value\n",
      "`1.1236000109596884` outside the bounds (0.8835999999999999,\n",
      "1.1236000000000002).\n",
      "    See also https://pyomo.readthedocs.io/en/stable/errors.html#w1002\n",
      "WARNING (W1002): Setting Var 'vmsq['89']' to a numeric value\n",
      "`1.1236000109250963` outside the bounds (0.8835999999999999,\n",
      "1.1236000000000002).\n",
      "    See also https://pyomo.readthedocs.io/en/stable/errors.html#w1002\n",
      "WARNING (W1002): Setting Var 'vmsq['100']' to a numeric value\n",
      "`1.12360001108724` outside the bounds (0.8835999999999999,\n",
      "1.1236000000000002).\n",
      "    See also https://pyomo.readthedocs.io/en/stable/errors.html#w1002\n",
      "WARNING (W1002): Setting Var 'vmsq['116']' to a numeric value\n",
      "`1.123600011065068` outside the bounds (0.8835999999999999,\n",
      "1.1236000000000002).\n",
      "    See also https://pyomo.readthedocs.io/en/stable/errors.html#w1002\n",
      "WARNING (W1002): Setting Var 'qg['1']' to a numeric value\n",
      "`0.15000000628493593` outside the bounds (-0.05, 0.15).\n",
      "    See also https://pyomo.readthedocs.io/en/stable/errors.html#w1002\n",
      "WARNING (W1002): Setting Var 'qg['11']' to a numeric value\n",
      "`-0.47000000431209704` outside the bounds (-0.47, 1.11).\n",
      "    See also https://pyomo.readthedocs.io/en/stable/errors.html#w1002\n",
      "WARNING (W1002): Setting Var 'qg['14']' to a numeric value\n",
      "`0.09000000287619855` outside the bounds (-0.09, 0.09).\n",
      "    See also https://pyomo.readthedocs.io/en/stable/errors.html#w1002\n",
      "WARNING (W1002): Setting Var 'qg['21']' to a numeric value\n",
      "`-0.8500000020746161` outside the bounds (-0.85, 1.12).\n",
      "    See also https://pyomo.readthedocs.io/en/stable/errors.html#w1002\n",
      "WARNING (W1002): Setting Var 'qg['29']' to a numeric value\n",
      "`-0.6700000020521103` outside the bounds (-0.67, 2.0).\n",
      "    See also https://pyomo.readthedocs.io/en/stable/errors.html#w1002\n",
      "WARNING (W1002): Setting Var 'qg['34']' to a numeric value\n",
      "`0.09000000561824659` outside the bounds (-0.06, 0.09).\n",
      "    See also https://pyomo.readthedocs.io/en/stable/errors.html#w1002\n"
     ]
    },
    {
     "name": "stdout",
     "output_type": "stream",
     "text": [
      "WARNING (W1002): Setting Var 'qg['35']' to a numeric value\n",
      "`0.23000000744487295` outside the bounds (-0.08, 0.23).\n",
      "    See also https://pyomo.readthedocs.io/en/stable/errors.html#w1002\n",
      "WARNING (W1002): Setting Var 'qg['38']' to a numeric value\n",
      "`0.23000000197224058` outside the bounds (-0.08, 0.23).\n",
      "    See also https://pyomo.readthedocs.io/en/stable/errors.html#w1002\n",
      "WARNING (W1002): Setting Var 'qg['47']' to a numeric value\n",
      "`0.23000000039388002` outside the bounds (-0.08, 0.23).\n",
      "    See also https://pyomo.readthedocs.io/en/stable/errors.html#w1002\n",
      "N. iter: 52\n"
     ]
    }
   ],
   "source": [
    "solver.config.intermediate_callback = callback\n",
    "# Can also set `options=dict(intermediate_callback=callback)` when constructing cyipopt.\n",
    "res = solver.solve(m, tee=True)\n",
    "pyo.assert_optimal_termination(res)\n",
    "# Do we have about the right number of iterations?\n",
    "print(f\"N. iter: {len(callback.iterate_data)}\")"
   ]
  },
  {
   "cell_type": "markdown",
   "id": "35493d7f",
   "metadata": {},
   "source": [
    "We have recorded primal and dual values in the order defined by `get_current_iterate`.\n",
    "Let's make sure this is the same order as stored in a `PyomoNLP`."
   ]
  },
  {
   "cell_type": "code",
   "execution_count": 10,
   "id": "491bf721",
   "metadata": {},
   "outputs": [],
   "source": [
    "nlp = PyomoNLP(m)\n",
    "assert all(nlp.get_primals() == callback.iterate_data[-1][\"primals\"])\n",
    "assert all(nlp.get_duals() == callback.iterate_data[-1][\"duals\"])"
   ]
  },
  {
   "cell_type": "markdown",
   "id": "becc6632",
   "metadata": {},
   "source": [
    "Now we can plot the state trajectory for variables we're interested in. We'll plot two variables,\n",
    "each with its own axis."
   ]
  },
  {
   "cell_type": "code",
   "execution_count": 36,
   "id": "89779486",
   "metadata": {},
   "outputs": [
    {
     "data": {
      "image/png": "[encoded data removed]",
      "text/plain": [
       "<Figure size 640x480 with 1 Axes>"
      ]
     },
     "metadata": {},
     "output_type": "display_data"
    }
   ],
   "source": [
    "# These are the data structures we created above.\n",
    "g1 = nonreference_generators[2]\n",
    "g2 = nonreference_generators[3]\n",
    "plotvars = [m.pg[g1], m.pg[g2]]\n",
    "indices = nlp.get_primal_indices(plotvars)\n",
    "\n",
    "plotdata = [\n",
    "    [data[\"primals\"][i] for data in callback.iterate_data]\n",
    "    for i in indices\n",
    "]\n",
    "x, y = plotvars\n",
    "xdata, ydata = plotdata\n",
    "\n",
    "# Plot state trajectories\n",
    "def plot_state_trajectories():\n",
    "    \"\"\"Note that this function relies on global variables\"\"\"\n",
    "    fig, ax = plt.subplots()\n",
    "    ax.plot([x.lb, x.ub], [y.lb, y.lb], color=\"red\", label=\"Bounds\")\n",
    "    ax.plot([x.lb, x.ub], [y.ub, y.ub], color=\"red\")\n",
    "    ax.plot([x.lb, x.lb], [y.lb, y.ub], color=\"red\")\n",
    "    ax.plot([x.ub, x.ub], [y.lb, y.ub], color=\"red\")\n",
    "    ax.plot(xdata, ydata)\n",
    "    ax.scatter([xdata[0]], [ydata[0]], marker=\".\", s=100, label=\"Initial\", color=\"black\", zorder=10)\n",
    "    ax.scatter([xdata[-1]], [ydata[-1]], marker=\"*\", s=100, label=\"Optimal\", color=\"black\", zorder=10)\n",
    "    ax.legend()\n",
    "    return fig, ax\n",
    "\n",
    "fig, ax = plot_state_trajectories()"
   ]
  },
  {
   "cell_type": "markdown",
   "id": "792c5015",
   "metadata": {},
   "source": [
    "We have the plot that we want. This is a very simple example of what we can do with the iterate data. We could imagine computing much more complicated values, like condition numbers or inertia.\n",
    "\n",
    "For now, let's make this plot a little bit more interesting by adding contours of the objective. Contours are\n",
    "level sets of our objective, projected onto the feasible space of our problem (projected again onto the\n",
    "two variables we're plotting). To a second-order approximation, we just want the ellipsoid defined by the reduced\n",
    "Hessian (viewed as a quadratic function) projected onto these two variables.\n",
    "\n",
    "I've included the functionality for constructing the reduced Hessian, from the previous example, in a file\n",
    "called `reduced_hessian.py`. Let's use it to add some contours to this plot."
   ]
  },
  {
   "cell_type": "code",
   "execution_count": 23,
   "id": "bb81b42a",
   "metadata": {},
   "outputs": [],
   "source": [
    "from reduced_hessian import (\n",
    "    get_reduced_hessian,\n",
    "    get_gradient_of_lagrangian,\n",
    "    project_onto, # This is for projecting the RH onto the two coordinates we care about\n",
    ")\n",
    "lbmult = [m.ipopt_zL_out[x] for x in nlp.get_pyomo_variables()]\n",
    "ubmult = [m.ipopt_zU_out[x] for x in nlp.get_pyomo_variables()]\n",
    "# Sanity check\n",
    "gradlag = get_gradient_of_lagrangian(nlp, lbmult, ubmult)\n",
    "assert all(abs(gradlag) <= 1e-7)"
   ]
  },
  {
   "cell_type": "markdown",
   "id": "8fcf0cc8",
   "metadata": {},
   "source": [
    "To construct the reduced Hessian, we need to know (a valid set of) degrees of freedom. Let's construct these\n",
    "and test that the resulting the Jacobian with respect to basic variables is nonsingular."
   ]
  },
  {
   "cell_type": "code",
   "execution_count": 26,
   "id": "572257c4",
   "metadata": {},
   "outputs": [
    {
     "name": "stdout",
     "output_type": "stream",
     "text": [
      "(1635, 1635)\n",
      "Condition number of basic submatrix: 2.76E+06\n"
     ]
    }
   ],
   "source": [
    "# In ACOPF, degrees of freedom are typically real and reactive power at generator buses\n",
    "# (except at the reference bus, which has one fewer degree of freedom)\n",
    "dofvars = [m.pg[i] for i in nonreference_generators] + list(m.qg.values())\n",
    "dofvar_map = ComponentMap((v, i) for i, v in enumerate(dofvars))\n",
    "basicvars = [v for v in nlp.get_pyomo_variables() if v not in dofvar_map]\n",
    "eqcons = nlp.get_pyomo_equality_constraints()\n",
    "basic_submatrix = nlp.extract_submatrix_jacobian(basicvars, eqcons)\n",
    "print(basic_submatrix.shape)\n",
    "lu = sp.sparse.linalg.splu(basic_submatrix.tocsc())\n",
    "cond = np.linalg.cond(basic_submatrix.toarray())\n",
    "print(f\"Condition number of basic submatrix: {cond:1.2E}\")"
   ]
  },
  {
   "cell_type": "markdown",
   "id": "69acc8b3",
   "metadata": {},
   "source": [
    "We have valid degrees of freedom. Now we can construct the reduced Hessian."
   ]
  },
  {
   "cell_type": "code",
   "execution_count": 28,
   "id": "b5536490",
   "metadata": {},
   "outputs": [],
   "source": [
    "rh = get_reduced_hessian(nlp, dofvars, lbmult, ubmult)\n",
    "# `x` and `y` are the variables we're plotting.\n",
    "plot_indices = [dofvar_map[x], dofvar_map[y]]\n",
    "# This just gets the symmetric matrix descriping the ellipse in the two coordinates\n",
    "# we care about. It does this with a Schur complement.\n",
    "projected_rh = project_onto(rh, plot_indices)\n",
    "evals, evecs = np.linalg.eig(projected_rh)\n",
    "assert all(evals > 0)"
   ]
  },
  {
   "cell_type": "markdown",
   "id": "332dbb0a",
   "metadata": {},
   "source": [
    "The function $(x - x^*)^T \\mathcal{H}_r (x - x^*)$ is a second-order approximation of our objective function,\n",
    "projected onto the feasible space.\n",
    "The contours we want to plot are level sets of this function (projected onto our two variables).\n",
    "The level sets are ellipsoids with axes in the direction of the (orthogonal) eigenvectors\n",
    "and lengths proportional to the (real) eigenvalues."
   ]
  },
  {
   "cell_type": "code",
   "execution_count": 55,
   "id": "62a1d565",
   "metadata": {},
   "outputs": [
    {
     "data": {
      "image/png": "[encoded data removed]",
      "text/plain": [
       "<Figure size 640x480 with 1 Axes>"
      ]
     },
     "metadata": {},
     "output_type": "display_data"
    }
   ],
   "source": [
    "def plot_trajectories_with_contours():\n",
    "    fig, ax = plot_state_trajectories()\n",
    "    # Center our contours on the optimal termination point\n",
    "    center = (xdata[-1], ydata[-1])\n",
    "    # The angle that Ellipse expects is defined by the second eigenvector, for some reason.\n",
    "    angle = np.rad2deg(np.arctan2(evecs[1,0], evecs[1,1]))\n",
    "    levels = [1e0, 1e1, 1e2, 3e2, 7e2]\n",
    "    xlim = ax.get_xlim()\n",
    "    ylim = ax.get_ylim()\n",
    "    for l in levels:\n",
    "        # Here we're taking level sets of the function:\n",
    "        # (1/2) x^T A x, for some reason.\n",
    "        width = 2 * (l / evals[0])**0.5\n",
    "        height = 2 * (l / evals[1])**0.5\n",
    "        ellipse = matplotlib.patches.Ellipse(\n",
    "            center,\n",
    "            width=width,\n",
    "            height=height,\n",
    "            angle=angle,\n",
    "            edgecolor=tuple([0.7]*3),\n",
    "            facecolor=\"none\",\n",
    "        )\n",
    "        ax.add_patch(ellipse)\n",
    "    # Reset plot limits so these aren't influenced by ellipses\n",
    "    ax.set_xlim(xlim)\n",
    "    ax.set_ylim(ylim)\n",
    "    return fig, ax\n",
    "\n",
    "fig, ax = plot_trajectories_with_contours()\n",
    "plt.show()"
   ]
  },
  {
   "cell_type": "markdown",
   "id": "6fe7be1e",
   "metadata": {},
   "source": [
    "That's it! We've recorded the state trajectory, plotted it in two dimensions, and used the reduced Hessian to\n",
    "plot (approximate) contours of the objective function.\n",
    "\n",
    "Again, go try this out on your models! Will looking at state trajectories in two dimensions give you some\n",
    "fundamental yet practical insight into your model or the Ipopt algorithm? Maybe not, but it might!\n",
    "If the trajectory of some variable is jumping around to a weird region, maybe you need to add a bound.\n",
    "If the eigenvalues of the reduced Hessian are wildly different, maybe you need to reconsider your\n",
    "problem's scaling."
   ]
  }
 ],
 "metadata": {
  "kernelspec": {
   "display_name": "Python 3 (ipykernel)",
   "language": "python",
   "name": "python3"
  },
  "language_info": {
   "codemirror_mode": {
    "name": "ipython",
    "version": 3
   },
   "file_extension": ".py",
   "mimetype": "text/x-python",
   "name": "python",
   "nbconvert_exporter": "python",
   "pygments_lexer": "ipython3",
   "version": "3.12.7"
  }
 },
 "nbformat": 4,
 "nbformat_minor": 5
}
